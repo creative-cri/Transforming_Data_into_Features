{
 "cells": [
  {
   "cell_type": "markdown",
   "id": "5ad96b5e",
   "metadata": {},
   "source": [
    "# Transforming Data into Features"
   ]
  },
  {
   "cell_type": "code",
   "execution_count": 1,
   "id": "507061bd",
   "metadata": {},
   "outputs": [],
   "source": [
    "import pandas as pd\n",
    "import numpy as np\n",
    "from sklearn.preprocessing import StandardScaler"
   ]
  },
  {
   "cell_type": "code",
   "execution_count": 2,
   "id": "1a4e9f03",
   "metadata": {},
   "outputs": [],
   "source": [
    "#import data\n",
    "reviews = pd.read_csv('reviews.csv')"
   ]
  },
  {
   "cell_type": "code",
   "execution_count": 3,
   "id": "bdf33985",
   "metadata": {},
   "outputs": [
    {
     "name": "stdout",
     "output_type": "stream",
     "text": [
      "Index(['Unnamed: 0', 'Clothing ID', 'Age', 'Title', 'Review Text', 'Rating',\n",
      "       'Recommended IND', 'Positive Feedback Count', 'Division Name',\n",
      "       'Department Name', 'Class Name'],\n",
      "      dtype='object')\n",
      "<class 'pandas.core.frame.DataFrame'>\n",
      "RangeIndex: 23486 entries, 0 to 23485\n",
      "Data columns (total 11 columns):\n",
      " #   Column                   Non-Null Count  Dtype \n",
      "---  ------                   --------------  ----- \n",
      " 0   Unnamed: 0               23486 non-null  int64 \n",
      " 1   Clothing ID              23486 non-null  int64 \n",
      " 2   Age                      23486 non-null  int64 \n",
      " 3   Title                    19676 non-null  object\n",
      " 4   Review Text              22641 non-null  object\n",
      " 5   Rating                   23486 non-null  int64 \n",
      " 6   Recommended IND          23486 non-null  int64 \n",
      " 7   Positive Feedback Count  23486 non-null  int64 \n",
      " 8   Division Name            23472 non-null  object\n",
      " 9   Department Name          23472 non-null  object\n",
      " 10  Class Name               23472 non-null  object\n",
      "dtypes: int64(6), object(5)\n",
      "memory usage: 2.0+ MB\n",
      "None\n"
     ]
    }
   ],
   "source": [
    "#print column names\n",
    "print(reviews.columns)\n",
    " \n",
    "#print .info\n",
    "print(reviews.info())"
   ]
  },
  {
   "cell_type": "code",
   "execution_count": 6,
   "id": "1a521cd8",
   "metadata": {},
   "outputs": [
    {
     "name": "stdout",
     "output_type": "stream",
     "text": [
      "1    19314\n",
      "0     4172\n",
      "Name: Recommended IND, dtype: int64\n"
     ]
    }
   ],
   "source": [
    "#look at the counts of recommended\n",
    "print(reviews['Recommended IND'].value_counts())"
   ]
  },
  {
   "cell_type": "code",
   "execution_count": 7,
   "id": "3b9665d8",
   "metadata": {},
   "outputs": [
    {
     "name": "stdout",
     "output_type": "stream",
     "text": [
      "Series([], Name: Recommended IND, dtype: int64)\n"
     ]
    }
   ],
   "source": [
    "#create binary dictionary\n",
    "binary_dict = {True:1, False:0}\n",
    " \n",
    "#transform column\n",
    "reviews['Recommended IND'] = reviews['Recommended IND'].map(binary_dict)\n",
    " \n",
    "#print your transformed column\n",
    "print(reviews['Recommended IND'].value_counts())\n"
   ]
  },
  {
   "cell_type": "code",
   "execution_count": 8,
   "id": "9833c51a",
   "metadata": {},
   "outputs": [
    {
     "name": "stdout",
     "output_type": "stream",
     "text": [
      "5    13131\n",
      "4     5077\n",
      "3     2871\n",
      "2     1565\n",
      "1      842\n",
      "Name: Rating, dtype: int64\n"
     ]
    }
   ],
   "source": [
    "#look at the counts of rating\n",
    "print(reviews['Rating'].value_counts())\n"
   ]
  },
  {
   "cell_type": "code",
   "execution_count": 9,
   "id": "5a801560",
   "metadata": {},
   "outputs": [
    {
     "name": "stdout",
     "output_type": "stream",
     "text": [
      "Series([], Name: Rating, dtype: int64)\n"
     ]
    }
   ],
   "source": [
    "#create dictionary\n",
    "rating_dict = {'Loved it':5, 'Liked it':4, 'Was ok':3, 'Not great':2, 'Hated it':1}\n",
    " \n",
    "#transform rating column\n",
    "reviews['Rating'] = reviews['Rating'].map(rating_dict)\n",
    " \n",
    "#print your transformed column values\n",
    "print(reviews['Rating'].value_counts())"
   ]
  },
  {
   "cell_type": "code",
   "execution_count": 10,
   "id": "e326f2f9",
   "metadata": {},
   "outputs": [
    {
     "name": "stdout",
     "output_type": "stream",
     "text": [
      "Tops        10468\n",
      "Dresses      6319\n",
      "Bottoms      3799\n",
      "Intimate     1735\n",
      "Jackets      1032\n",
      "Trend         119\n",
      "Name: Department Name, dtype: int64\n"
     ]
    }
   ],
   "source": [
    "#get the number of categories in a feature\n",
    "print(reviews['Department Name'].value_counts()) "
   ]
  },
  {
   "cell_type": "code",
   "execution_count": 11,
   "id": "92afa489",
   "metadata": {},
   "outputs": [
    {
     "name": "stdout",
     "output_type": "stream",
     "text": [
      "Index(['Unnamed: 0', 'Clothing ID', 'Age', 'Title', 'Review Text', 'Rating',\n",
      "       'Recommended IND', 'Positive Feedback Count', 'Division Name',\n",
      "       'Department Name', 'Class Name', 'Bottoms', 'Dresses', 'Intimate',\n",
      "       'Jackets', 'Tops', 'Trend'],\n",
      "      dtype='object')\n"
     ]
    }
   ],
   "source": [
    "#perform get_dummies\n",
    "one_hot = pd.get_dummies(reviews['Department Name'])\n",
    " \n",
    "#join the new columns back onto the original\n",
    "reviews = reviews.join(one_hot)\n",
    "\n",
    "#print column names\n",
    "print(reviews.columns)"
   ]
  },
  {
   "cell_type": "code",
   "execution_count": 14,
   "id": "dc18ebe2",
   "metadata": {},
   "outputs": [
    {
     "name": "stderr",
     "output_type": "stream",
     "text": [
      "C:\\ProgramData\\Anaconda3\\lib\\site-packages\\sklearn\\utils\\extmath.py:847: RuntimeWarning: invalid value encountered in true_divide\n",
      "  updated_mean = (last_sum + new_sum) / updated_sample_count\n",
      "C:\\ProgramData\\Anaconda3\\lib\\site-packages\\sklearn\\utils\\extmath.py:689: RuntimeWarning: Degrees of freedom <= 0 for slice.\n",
      "  result = op(x, *args, **kwargs)\n"
     ]
    },
    {
     "data": {
      "text/plain": [
       "array([[-0.74334818, -0.83054886,         nan, ..., -0.21438431,\n",
       "        -0.89672592, -0.07136282],\n",
       "       [ 0.79628898, -0.74911087,         nan, ..., -0.21438431,\n",
       "        -0.89672592, -0.07136282],\n",
       "       [ 0.78153208,  1.36827674,         nan, ..., -0.21438431,\n",
       "        -0.89672592, -0.07136282],\n",
       "       ...,\n",
       "       [ 0.91434423, -0.99342483,         nan, ..., -0.21438431,\n",
       "        -0.89672592, -0.07136282],\n",
       "       [ 0.81596486, -1.23773878,         nan, ..., -0.21438431,\n",
       "        -0.89672592, -0.07136282],\n",
       "       [ 0.91434423,  0.71677286,         nan, ..., -0.21438431,\n",
       "        -0.89672592, -0.07136282]])"
      ]
     },
     "execution_count": 14,
     "metadata": {},
     "output_type": "execute_result"
    }
   ],
   "source": [
    "#get numerical columns\n",
    "reviews = reviews[['Clothing ID', 'Age', 'Recommended IND', 'Rating', 'Bottoms', 'Dresses', 'Intimate', 'Jackets', 'Tops', 'Trend']].copy()\n",
    "\n",
    " \n",
    "#reset index\n",
    "reviews = reviews.set_index(reviews['Clothing ID'])\n",
    "\n",
    "#instantiate standard scaler\n",
    "scaler = StandardScaler()\n",
    "\n",
    "#fit transform data\n",
    "scaler.fit_transform(reviews)"
   ]
  },
  {
   "cell_type": "code",
   "execution_count": 15,
   "id": "21b4e2e1",
   "metadata": {},
   "outputs": [
    {
     "name": "stdout",
     "output_type": "stream",
     "text": [
      "Index(['Clothing ID', 'Age', 'Recommended IND', 'Rating', 'Bottoms', 'Dresses',\n",
      "       'Intimate', 'Jackets', 'Tops', 'Trend'],\n",
      "      dtype='object')\n"
     ]
    }
   ],
   "source": [
    "print(reviews.columns)"
   ]
  }
 ],
 "metadata": {
  "kernelspec": {
   "display_name": "Python 3 (ipykernel)",
   "language": "python",
   "name": "python3"
  },
  "language_info": {
   "codemirror_mode": {
    "name": "ipython",
    "version": 3
   },
   "file_extension": ".py",
   "mimetype": "text/x-python",
   "name": "python",
   "nbconvert_exporter": "python",
   "pygments_lexer": "ipython3",
   "version": "3.9.7"
  }
 },
 "nbformat": 4,
 "nbformat_minor": 5
}
